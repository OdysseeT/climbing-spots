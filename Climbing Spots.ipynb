{
 "cells": [
  {
   "cell_type": "code",
   "execution_count": 1,
   "metadata": {
    "ExecuteTime": {
     "end_time": "2020-05-06T06:37:48.004266Z",
     "start_time": "2020-05-06T06:37:46.578763Z"
    }
   },
   "outputs": [],
   "source": [
    "import requests\n",
    "import pandas as pd\n",
    "import numpy as np\n",
    "import datetime\n",
    "import simplekml\n",
    "import json\n"
   ]
  },
  {
   "cell_type": "code",
   "execution_count": 2,
   "metadata": {
    "ExecuteTime": {
     "end_time": "2020-05-06T06:37:48.010079Z",
     "start_time": "2020-05-06T06:37:48.007432Z"
    }
   },
   "outputs": [],
   "source": [
    "URL = \"https://climbingaway.fr/en/rock-climbing-areas/world-map-of-rock-climbing-areas/index.php?option=com_cartes_sites&task=getMarkPays\""
   ]
  },
  {
   "cell_type": "code",
   "execution_count": 3,
   "metadata": {
    "ExecuteTime": {
     "end_time": "2020-05-06T06:37:48.519699Z",
     "start_time": "2020-05-06T06:37:48.012926Z"
    }
   },
   "outputs": [],
   "source": [
    "r = requests.post(URL, data = {'id_pays':16, 'nom_region':'NA'})"
   ]
  },
  {
   "cell_type": "code",
   "execution_count": 4,
   "metadata": {
    "ExecuteTime": {
     "end_time": "2020-05-06T06:37:48.536030Z",
     "start_time": "2020-05-06T06:37:48.522195Z"
    }
   },
   "outputs": [
    {
     "name": "stdout",
     "output_type": "stream",
     "text": [
      "{'id': '28', 'nom': 'Fontainebleau (Le Bas Cuvier)', 'type_escalade': 'Bloc-', 'exposition': 'Toutes-', 'public': 'hautniveau-confirme-amateur-debutant-', 'pieddesvoies': 'confortable', 'ref_topo': '-268-1562-148-266-267-192-583-', 'coor_1': '48.447084594124036', 'coor_2': '2.6389431953703024', 'equipement': '', 'topo_num': '0', 'saison': '1-2-3-4-5-10-11-12'}\n"
     ]
    }
   ],
   "source": [
    "data = r.json()\n",
    "for obj in data['data']:\n",
    "    print(obj)\n",
    "    break"
   ]
  },
  {
   "cell_type": "code",
   "execution_count": 5,
   "metadata": {
    "ExecuteTime": {
     "end_time": "2020-05-06T06:37:48.547124Z",
     "start_time": "2020-05-06T06:37:48.538458Z"
    }
   },
   "outputs": [],
   "source": [
    "def request_data(id_pays):\n",
    "    \n",
    "    df = pd.DataFrame (columns=['id','nom','type_escalade','exposition','public',\n",
    "                                'pieddesvoies','ref_topo','coor_1','coor_2','equipement','topo_num','saison'])\n",
    "    r = requests.post(URL, data = {'id_pays':id_pays, 'nom_region':'NA'})\n",
    "\n",
    "    data = r.json()\n",
    "    \n",
    "    for obj in data['data']:\n",
    "        climbing_spot = {\n",
    "            'id':obj['id'],\n",
    "            'nom':obj['nom'],\n",
    "            'type_escalade':obj['type_escalade'],\n",
    "            'exposition':obj['exposition'],\n",
    "            'public':obj['public'],\n",
    "            'pieddesvoies':obj['pieddesvoies'],\n",
    "            'ref_topo':obj['ref_topo'],\n",
    "            'coor_1':obj['coor_1'],\n",
    "            'coor_2':obj['coor_2'],\n",
    "            'equipement':obj['equipement'],\n",
    "            'topo_num':obj['topo_num'],\n",
    "            'saison':obj['saison']}\n",
    "        \n",
    "        df = df.append(climbing_spot, ignore_index=True)\n",
    "    return df"
   ]
  },
  {
   "cell_type": "code",
   "execution_count": 6,
   "metadata": {
    "ExecuteTime": {
     "end_time": "2020-05-06T06:37:53.929144Z",
     "start_time": "2020-05-06T06:37:48.549778Z"
    }
   },
   "outputs": [],
   "source": [
    "df = request_data(16)"
   ]
  },
  {
   "cell_type": "code",
   "execution_count": 7,
   "metadata": {
    "ExecuteTime": {
     "end_time": "2020-05-06T06:37:53.941879Z",
     "start_time": "2020-05-06T06:37:53.932788Z"
    }
   },
   "outputs": [
    {
     "name": "stdout",
     "output_type": "stream",
     "text": [
      "<class 'pandas.core.frame.DataFrame'>\n",
      "RangeIndex: 2138 entries, 0 to 2137\n",
      "Data columns (total 12 columns):\n",
      "id               2138 non-null object\n",
      "nom              2138 non-null object\n",
      "type_escalade    2138 non-null object\n",
      "exposition       2138 non-null object\n",
      "public           2138 non-null object\n",
      "pieddesvoies     2138 non-null object\n",
      "ref_topo         2138 non-null object\n",
      "coor_1           2138 non-null object\n",
      "coor_2           2138 non-null object\n",
      "equipement       2138 non-null object\n",
      "topo_num         2138 non-null object\n",
      "saison           2138 non-null object\n",
      "dtypes: object(12)\n",
      "memory usage: 200.5+ KB\n"
     ]
    }
   ],
   "source": [
    "df.info()"
   ]
  },
  {
   "cell_type": "code",
   "execution_count": 8,
   "metadata": {
    "ExecuteTime": {
     "end_time": "2020-05-06T06:37:53.969553Z",
     "start_time": "2020-05-06T06:37:53.945792Z"
    }
   },
   "outputs": [
    {
     "data": {
      "text/html": [
       "<div>\n",
       "<style scoped>\n",
       "    .dataframe tbody tr th:only-of-type {\n",
       "        vertical-align: middle;\n",
       "    }\n",
       "\n",
       "    .dataframe tbody tr th {\n",
       "        vertical-align: top;\n",
       "    }\n",
       "\n",
       "    .dataframe thead th {\n",
       "        text-align: right;\n",
       "    }\n",
       "</style>\n",
       "<table border=\"1\" class=\"dataframe\">\n",
       "  <thead>\n",
       "    <tr style=\"text-align: right;\">\n",
       "      <th></th>\n",
       "      <th>id</th>\n",
       "      <th>nom</th>\n",
       "      <th>type_escalade</th>\n",
       "      <th>exposition</th>\n",
       "      <th>public</th>\n",
       "      <th>pieddesvoies</th>\n",
       "      <th>ref_topo</th>\n",
       "      <th>coor_1</th>\n",
       "      <th>coor_2</th>\n",
       "      <th>equipement</th>\n",
       "      <th>topo_num</th>\n",
       "      <th>saison</th>\n",
       "    </tr>\n",
       "  </thead>\n",
       "  <tbody>\n",
       "    <tr>\n",
       "      <th>0</th>\n",
       "      <td>28</td>\n",
       "      <td>Fontainebleau (Le Bas Cuvier)</td>\n",
       "      <td>Bloc-</td>\n",
       "      <td>Toutes-</td>\n",
       "      <td>hautniveau-confirme-amateur-debutant-</td>\n",
       "      <td>confortable</td>\n",
       "      <td>-268-1562-148-266-267-192-583-</td>\n",
       "      <td>48.447084594124036</td>\n",
       "      <td>2.6389431953703024</td>\n",
       "      <td></td>\n",
       "      <td>0</td>\n",
       "      <td>1-2-3-4-5-10-11-12</td>\n",
       "    </tr>\n",
       "    <tr>\n",
       "      <th>1</th>\n",
       "      <td>29</td>\n",
       "      <td>Les Calanques - Sugiton (La Paroi des Toits)</td>\n",
       "      <td>Grande voie-Couenne-</td>\n",
       "      <td>SW-S-</td>\n",
       "      <td>hautniveau-confirme-amateur-</td>\n",
       "      <td>correct</td>\n",
       "      <td>-28-</td>\n",
       "      <td>43.213578567634364</td>\n",
       "      <td>5.45468384029391</td>\n",
       "      <td>Sportif-</td>\n",
       "      <td>1</td>\n",
       "      <td>1-2-3-4-5-6-9-10-11-12</td>\n",
       "    </tr>\n",
       "    <tr>\n",
       "      <th>2</th>\n",
       "      <td>37</td>\n",
       "      <td>Saint-Bauzille-de-Montmel</td>\n",
       "      <td>Couenne-</td>\n",
       "      <td>SW-S-SE-</td>\n",
       "      <td>confirme-amateur-debutant-</td>\n",
       "      <td>accidenté</td>\n",
       "      <td>-88-</td>\n",
       "      <td>43.77526622417932</td>\n",
       "      <td>3.9485549926757812</td>\n",
       "      <td>Sportif-</td>\n",
       "      <td>0</td>\n",
       "      <td>1-2-3-4-5-6-9-10-11-12</td>\n",
       "    </tr>\n",
       "    <tr>\n",
       "      <th>3</th>\n",
       "      <td>38</td>\n",
       "      <td>Buoux</td>\n",
       "      <td>Grande voie-Couenne-</td>\n",
       "      <td>W-SW-S-SE-E-</td>\n",
       "      <td>hautniveau-confirme-amateur-debutant-</td>\n",
       "      <td>accidenté</td>\n",
       "      <td>-79-</td>\n",
       "      <td>43.822627394853725</td>\n",
       "      <td>5.382528305053711</td>\n",
       "      <td>Sportif-</td>\n",
       "      <td>0</td>\n",
       "      <td>3-4-5-6-9-10-11-12</td>\n",
       "    </tr>\n",
       "    <tr>\n",
       "      <th>4</th>\n",
       "      <td>39</td>\n",
       "      <td>Tende</td>\n",
       "      <td>Couenne-</td>\n",
       "      <td>SW-</td>\n",
       "      <td>hautniveau-confirme-</td>\n",
       "      <td>correct</td>\n",
       "      <td>-33-</td>\n",
       "      <td>44.102554246308976</td>\n",
       "      <td>7.588924169540405</td>\n",
       "      <td>Sportif-</td>\n",
       "      <td>0</td>\n",
       "      <td>4-5-6-9-10-11</td>\n",
       "    </tr>\n",
       "  </tbody>\n",
       "</table>\n",
       "</div>"
      ],
      "text/plain": [
       "   id                                           nom         type_escalade  \\\n",
       "0  28                 Fontainebleau (Le Bas Cuvier)                 Bloc-   \n",
       "1  29  Les Calanques - Sugiton (La Paroi des Toits)  Grande voie-Couenne-   \n",
       "2  37                     Saint-Bauzille-de-Montmel              Couenne-   \n",
       "3  38                                         Buoux  Grande voie-Couenne-   \n",
       "4  39                                         Tende              Couenne-   \n",
       "\n",
       "     exposition                                 public pieddesvoies  \\\n",
       "0       Toutes-  hautniveau-confirme-amateur-debutant-  confortable   \n",
       "1         SW-S-           hautniveau-confirme-amateur-      correct   \n",
       "2      SW-S-SE-             confirme-amateur-debutant-    accidenté   \n",
       "3  W-SW-S-SE-E-  hautniveau-confirme-amateur-debutant-    accidenté   \n",
       "4           SW-                   hautniveau-confirme-      correct   \n",
       "\n",
       "                         ref_topo              coor_1              coor_2  \\\n",
       "0  -268-1562-148-266-267-192-583-  48.447084594124036  2.6389431953703024   \n",
       "1                            -28-  43.213578567634364    5.45468384029391   \n",
       "2                            -88-   43.77526622417932  3.9485549926757812   \n",
       "3                            -79-  43.822627394853725   5.382528305053711   \n",
       "4                            -33-  44.102554246308976   7.588924169540405   \n",
       "\n",
       "  equipement topo_num                  saison  \n",
       "0                   0      1-2-3-4-5-10-11-12  \n",
       "1   Sportif-        1  1-2-3-4-5-6-9-10-11-12  \n",
       "2   Sportif-        0  1-2-3-4-5-6-9-10-11-12  \n",
       "3   Sportif-        0      3-4-5-6-9-10-11-12  \n",
       "4   Sportif-        0           4-5-6-9-10-11  "
      ]
     },
     "execution_count": 8,
     "metadata": {},
     "output_type": "execute_result"
    }
   ],
   "source": [
    "df.head()"
   ]
  },
  {
   "cell_type": "code",
   "execution_count": 9,
   "metadata": {
    "ExecuteTime": {
     "end_time": "2020-05-06T06:37:55.227057Z",
     "start_time": "2020-05-06T06:37:53.972506Z"
    }
   },
   "outputs": [],
   "source": [
    "kml = simplekml.Kml()\n",
    "for index, row in df.iterrows():\n",
    "    pnt = kml.newpoint(name=\"\",\n",
    "                 description=\"Name: {} - Type: {}\".format(row.nom, row.type_escalade),\n",
    "                 coords=[(row.coor_2, row.coor_1)])\n",
    "    pnt.style.iconstyle.icon.href = \"http://maps.google.com/mapfiles/kml/paddle/blu-circle.png\"\n",
    "kml.save(\"data/climbing_spots.kml\")"
   ]
  }
 ],
 "metadata": {
  "kernelspec": {
   "display_name": "Python 3",
   "language": "python",
   "name": "python3"
  },
  "language_info": {
   "codemirror_mode": {
    "name": "ipython",
    "version": 3
   },
   "file_extension": ".py",
   "mimetype": "text/x-python",
   "name": "python",
   "nbconvert_exporter": "python",
   "pygments_lexer": "ipython3",
   "version": "3.7.7"
  },
  "toc": {
   "base_numbering": 1,
   "nav_menu": {},
   "number_sections": true,
   "sideBar": true,
   "skip_h1_title": false,
   "title_cell": "Table of Contents",
   "title_sidebar": "Contents",
   "toc_cell": false,
   "toc_position": {},
   "toc_section_display": true,
   "toc_window_display": false
  },
  "varInspector": {
   "cols": {
    "lenName": 16,
    "lenType": 16,
    "lenVar": 40
   },
   "kernels_config": {
    "python": {
     "delete_cmd_postfix": "",
     "delete_cmd_prefix": "del ",
     "library": "var_list.py",
     "varRefreshCmd": "print(var_dic_list())"
    },
    "r": {
     "delete_cmd_postfix": ") ",
     "delete_cmd_prefix": "rm(",
     "library": "var_list.r",
     "varRefreshCmd": "cat(var_dic_list()) "
    }
   },
   "types_to_exclude": [
    "module",
    "function",
    "builtin_function_or_method",
    "instance",
    "_Feature"
   ],
   "window_display": false
  }
 },
 "nbformat": 4,
 "nbformat_minor": 4
}
